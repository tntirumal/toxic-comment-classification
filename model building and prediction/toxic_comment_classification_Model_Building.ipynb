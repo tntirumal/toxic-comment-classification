{
 "cells": [
  {
   "cell_type": "code",
   "execution_count": null,
   "metadata": {
    "colab": {
     "base_uri": "https://localhost:8080/",
     "height": 424
    },
    "id": "dHGtiHCZfX0x",
    "outputId": "85c2d267-e130-44eb-a893-ae29a0ede043"
   },
   "outputs": [
    {
     "data": {
      "text/html": [
       "\n",
       "  <div id=\"df-a83c7d6b-7099-4b99-9af7-f65a9c5da627\">\n",
       "    <div class=\"colab-df-container\">\n",
       "      <div>\n",
       "<style scoped>\n",
       "    .dataframe tbody tr th:only-of-type {\n",
       "        vertical-align: middle;\n",
       "    }\n",
       "\n",
       "    .dataframe tbody tr th {\n",
       "        vertical-align: top;\n",
       "    }\n",
       "\n",
       "    .dataframe thead th {\n",
       "        text-align: right;\n",
       "    }\n",
       "</style>\n",
       "<table border=\"1\" class=\"dataframe\">\n",
       "  <thead>\n",
       "    <tr style=\"text-align: right;\">\n",
       "      <th></th>\n",
       "      <th>comment_text</th>\n",
       "      <th>toxic</th>\n",
       "      <th>severe_toxic</th>\n",
       "      <th>obscene</th>\n",
       "      <th>threat</th>\n",
       "      <th>insult</th>\n",
       "      <th>identity_hate</th>\n",
       "    </tr>\n",
       "  </thead>\n",
       "  <tbody>\n",
       "    <tr>\n",
       "      <th>0</th>\n",
       "      <td>Explanation\\nWhy the edits made under my usern...</td>\n",
       "      <td>0</td>\n",
       "      <td>0</td>\n",
       "      <td>0</td>\n",
       "      <td>0</td>\n",
       "      <td>0</td>\n",
       "      <td>0</td>\n",
       "    </tr>\n",
       "    <tr>\n",
       "      <th>1</th>\n",
       "      <td>D'aww! He matches this background colour I'm s...</td>\n",
       "      <td>0</td>\n",
       "      <td>0</td>\n",
       "      <td>0</td>\n",
       "      <td>0</td>\n",
       "      <td>0</td>\n",
       "      <td>0</td>\n",
       "    </tr>\n",
       "    <tr>\n",
       "      <th>2</th>\n",
       "      <td>Hey man, I'm really not trying to edit war. It...</td>\n",
       "      <td>0</td>\n",
       "      <td>0</td>\n",
       "      <td>0</td>\n",
       "      <td>0</td>\n",
       "      <td>0</td>\n",
       "      <td>0</td>\n",
       "    </tr>\n",
       "    <tr>\n",
       "      <th>3</th>\n",
       "      <td>\"\\nMore\\nI can't make any real suggestions on ...</td>\n",
       "      <td>0</td>\n",
       "      <td>0</td>\n",
       "      <td>0</td>\n",
       "      <td>0</td>\n",
       "      <td>0</td>\n",
       "      <td>0</td>\n",
       "    </tr>\n",
       "    <tr>\n",
       "      <th>4</th>\n",
       "      <td>You, sir, are my hero. Any chance you remember...</td>\n",
       "      <td>0</td>\n",
       "      <td>0</td>\n",
       "      <td>0</td>\n",
       "      <td>0</td>\n",
       "      <td>0</td>\n",
       "      <td>0</td>\n",
       "    </tr>\n",
       "    <tr>\n",
       "      <th>...</th>\n",
       "      <td>...</td>\n",
       "      <td>...</td>\n",
       "      <td>...</td>\n",
       "      <td>...</td>\n",
       "      <td>...</td>\n",
       "      <td>...</td>\n",
       "      <td>...</td>\n",
       "    </tr>\n",
       "    <tr>\n",
       "      <th>159566</th>\n",
       "      <td>\":::::And for the second time of asking, when ...</td>\n",
       "      <td>0</td>\n",
       "      <td>0</td>\n",
       "      <td>0</td>\n",
       "      <td>0</td>\n",
       "      <td>0</td>\n",
       "      <td>0</td>\n",
       "    </tr>\n",
       "    <tr>\n",
       "      <th>159567</th>\n",
       "      <td>You should be ashamed of yourself \\n\\nThat is ...</td>\n",
       "      <td>0</td>\n",
       "      <td>0</td>\n",
       "      <td>0</td>\n",
       "      <td>0</td>\n",
       "      <td>0</td>\n",
       "      <td>0</td>\n",
       "    </tr>\n",
       "    <tr>\n",
       "      <th>159568</th>\n",
       "      <td>Spitzer \\n\\nUmm, theres no actual article for ...</td>\n",
       "      <td>0</td>\n",
       "      <td>0</td>\n",
       "      <td>0</td>\n",
       "      <td>0</td>\n",
       "      <td>0</td>\n",
       "      <td>0</td>\n",
       "    </tr>\n",
       "    <tr>\n",
       "      <th>159569</th>\n",
       "      <td>And it looks like it was actually you who put ...</td>\n",
       "      <td>0</td>\n",
       "      <td>0</td>\n",
       "      <td>0</td>\n",
       "      <td>0</td>\n",
       "      <td>0</td>\n",
       "      <td>0</td>\n",
       "    </tr>\n",
       "    <tr>\n",
       "      <th>159570</th>\n",
       "      <td>\"\\nAnd ... I really don't think you understand...</td>\n",
       "      <td>0</td>\n",
       "      <td>0</td>\n",
       "      <td>0</td>\n",
       "      <td>0</td>\n",
       "      <td>0</td>\n",
       "      <td>0</td>\n",
       "    </tr>\n",
       "  </tbody>\n",
       "</table>\n",
       "<p>159571 rows × 7 columns</p>\n",
       "</div>\n",
       "      <button class=\"colab-df-convert\" onclick=\"convertToInteractive('df-a83c7d6b-7099-4b99-9af7-f65a9c5da627')\"\n",
       "              title=\"Convert this dataframe to an interactive table.\"\n",
       "              style=\"display:none;\">\n",
       "        \n",
       "  <svg xmlns=\"http://www.w3.org/2000/svg\" height=\"24px\"viewBox=\"0 0 24 24\"\n",
       "       width=\"24px\">\n",
       "    <path d=\"M0 0h24v24H0V0z\" fill=\"none\"/>\n",
       "    <path d=\"M18.56 5.44l.94 2.06.94-2.06 2.06-.94-2.06-.94-.94-2.06-.94 2.06-2.06.94zm-11 1L8.5 8.5l.94-2.06 2.06-.94-2.06-.94L8.5 2.5l-.94 2.06-2.06.94zm10 10l.94 2.06.94-2.06 2.06-.94-2.06-.94-.94-2.06-.94 2.06-2.06.94z\"/><path d=\"M17.41 7.96l-1.37-1.37c-.4-.4-.92-.59-1.43-.59-.52 0-1.04.2-1.43.59L10.3 9.45l-7.72 7.72c-.78.78-.78 2.05 0 2.83L4 21.41c.39.39.9.59 1.41.59.51 0 1.02-.2 1.41-.59l7.78-7.78 2.81-2.81c.8-.78.8-2.07 0-2.86zM5.41 20L4 18.59l7.72-7.72 1.47 1.35L5.41 20z\"/>\n",
       "  </svg>\n",
       "      </button>\n",
       "      \n",
       "  <style>\n",
       "    .colab-df-container {\n",
       "      display:flex;\n",
       "      flex-wrap:wrap;\n",
       "      gap: 12px;\n",
       "    }\n",
       "\n",
       "    .colab-df-convert {\n",
       "      background-color: #E8F0FE;\n",
       "      border: none;\n",
       "      border-radius: 50%;\n",
       "      cursor: pointer;\n",
       "      display: none;\n",
       "      fill: #1967D2;\n",
       "      height: 32px;\n",
       "      padding: 0 0 0 0;\n",
       "      width: 32px;\n",
       "    }\n",
       "\n",
       "    .colab-df-convert:hover {\n",
       "      background-color: #E2EBFA;\n",
       "      box-shadow: 0px 1px 2px rgba(60, 64, 67, 0.3), 0px 1px 3px 1px rgba(60, 64, 67, 0.15);\n",
       "      fill: #174EA6;\n",
       "    }\n",
       "\n",
       "    [theme=dark] .colab-df-convert {\n",
       "      background-color: #3B4455;\n",
       "      fill: #D2E3FC;\n",
       "    }\n",
       "\n",
       "    [theme=dark] .colab-df-convert:hover {\n",
       "      background-color: #434B5C;\n",
       "      box-shadow: 0px 1px 3px 1px rgba(0, 0, 0, 0.15);\n",
       "      filter: drop-shadow(0px 1px 2px rgba(0, 0, 0, 0.3));\n",
       "      fill: #FFFFFF;\n",
       "    }\n",
       "  </style>\n",
       "\n",
       "      <script>\n",
       "        const buttonEl =\n",
       "          document.querySelector('#df-a83c7d6b-7099-4b99-9af7-f65a9c5da627 button.colab-df-convert');\n",
       "        buttonEl.style.display =\n",
       "          google.colab.kernel.accessAllowed ? 'block' : 'none';\n",
       "\n",
       "        async function convertToInteractive(key) {\n",
       "          const element = document.querySelector('#df-a83c7d6b-7099-4b99-9af7-f65a9c5da627');\n",
       "          const dataTable =\n",
       "            await google.colab.kernel.invokeFunction('convertToInteractive',\n",
       "                                                     [key], {});\n",
       "          if (!dataTable) return;\n",
       "\n",
       "          const docLinkHtml = 'Like what you see? Visit the ' +\n",
       "            '<a target=\"_blank\" href=https://colab.research.google.com/notebooks/data_table.ipynb>data table notebook</a>'\n",
       "            + ' to learn more about interactive tables.';\n",
       "          element.innerHTML = '';\n",
       "          dataTable['output_type'] = 'display_data';\n",
       "          await google.colab.output.renderOutput(dataTable, element);\n",
       "          const docLink = document.createElement('div');\n",
       "          docLink.innerHTML = docLinkHtml;\n",
       "          element.appendChild(docLink);\n",
       "        }\n",
       "      </script>\n",
       "    </div>\n",
       "  </div>\n",
       "  "
      ],
      "text/plain": [
       "                                             comment_text  toxic  \\\n",
       "0       Explanation\\nWhy the edits made under my usern...      0   \n",
       "1       D'aww! He matches this background colour I'm s...      0   \n",
       "2       Hey man, I'm really not trying to edit war. It...      0   \n",
       "3       \"\\nMore\\nI can't make any real suggestions on ...      0   \n",
       "4       You, sir, are my hero. Any chance you remember...      0   \n",
       "...                                                   ...    ...   \n",
       "159566  \":::::And for the second time of asking, when ...      0   \n",
       "159567  You should be ashamed of yourself \\n\\nThat is ...      0   \n",
       "159568  Spitzer \\n\\nUmm, theres no actual article for ...      0   \n",
       "159569  And it looks like it was actually you who put ...      0   \n",
       "159570  \"\\nAnd ... I really don't think you understand...      0   \n",
       "\n",
       "        severe_toxic  obscene  threat  insult  identity_hate  \n",
       "0                  0        0       0       0              0  \n",
       "1                  0        0       0       0              0  \n",
       "2                  0        0       0       0              0  \n",
       "3                  0        0       0       0              0  \n",
       "4                  0        0       0       0              0  \n",
       "...              ...      ...     ...     ...            ...  \n",
       "159566             0        0       0       0              0  \n",
       "159567             0        0       0       0              0  \n",
       "159568             0        0       0       0              0  \n",
       "159569             0        0       0       0              0  \n",
       "159570             0        0       0       0              0  \n",
       "\n",
       "[159571 rows x 7 columns]"
      ]
     },
     "execution_count": 33,
     "metadata": {},
     "output_type": "execute_result"
    }
   ],
   "source": [
    "dftrain.drop(['id'],axis=1,inplace=True)\n",
    "dftrain"
   ]
  },
  {
   "cell_type": "code",
   "execution_count": null,
   "metadata": {
    "colab": {
     "base_uri": "https://localhost:8080/"
    },
    "id": "hCUWt_q5ZzNp",
    "outputId": "4904d185-1f9d-4fd2-c7e9-e95d55de11e7"
   },
   "outputs": [
    {
     "name": "stdout",
     "output_type": "stream",
     "text": [
      "159571 159571\n"
     ]
    }
   ],
   "source": [
    "import tensorflow as tf\n",
    "from tensorflow.keras.preprocessing.text import Tokenizer\n",
    "from tensorflow.keras.preprocessing.sequence import pad_sequences\n",
    "from sklearn.model_selection import train_test_split\n",
    "from tensorflow.keras.utils import to_categorical\n",
    "import re\n",
    "\n",
    "# Define the preprocess function\n",
    "def preprocess(text):\n",
    "    # Remove URLs\n",
    "    pattern = r\"\\b((?:https?://)?(?:(?:www\\.)?(?:[\\da-z\\.-]+)\\.(?:[a-z]{2,6})|(?:(?:25[0-5]|2[0-4][0-9]|[01]?[0-9][0-9]?)\\.){3}(?:25[0-5]|2[0-4][0-9]|[01]?[0-9][0-9]?)|(?:(?:[0-9a-fA-F]{1,4}:){7,7}[0-9a-fA-F]{1,4}|(?:[0-9a-fA-F]{1,4}:){1,7}:|(?:[0-9a-fA-F]{1,4}:){1,6}:[0-9a-fA-F]{1,4}|(?:[0-9a-fA-F]{1,4}:){1,5}(?::[0-9a-fA-F]{1,4}){1,2}|(?:[0-9a-fA-F]{1,4}:){1,4}(?::[0-9a-fA-F]{1,4}){1,3}|(?:[0-9a-fA-F]{1,4}:){1,3}(?::[0-9a-fA-F]{1,4}){1,4}|(?:[0-9a-fA-F]{1,4}:){1,2}(?::[0-9a-fA-F]{1,4}){1,5}|[0-9a-fA-F]{1,4}:(?:(?::[0-9a-fA-F]{1,4}){1,6})|:(?:(?::[0-9a-fA-F]{1,4}){1,7}|:)|fe80:(?::[0-9a-fA-F]{0,4}){0,4}%[0-9a-zA-Z]{1,}|::(?:ffff(?::0{1,4}){0,1}:){0,1}(?:(?:25[0-5]|(?:2[0-4]|1{0,1}[0-9]){0,1}[0-9])\\.){3,3}(?:25[0-5]|(?:2[0-4]|1{0,1}[0-9]){0,1}[0-9])|(?:[0-9a-fA-F]{1,4}:){1,4}:(?:(?:25[0-5]|(?:2[0-4]|1{0,1}[0-9]){0,1}[0-9])\\.){3,3}(?:25[0-5]|(?:2[0-4]|1{0,1}[0-9]){0,1}[0-9])))(?::[0-9]{1,4}|[1-5][0-9]{4}|6[0-4][0-9]{3}|65[0-4][0-9]{2}|655[0-2][0-9]|6553[0-5])?(?:/[\\w\\.-]*)*/?)\\b\"\n",
    "    text = re.sub(pattern, \"\", text)\n",
    "\n",
    "    # Remove emoji\n",
    "    pattern = \"[\" + u\"\\U0001F600-\\U0001F64F\" \\\n",
    "                 + u\"\\U0001F300-\\U0001F5FF\" \\\n",
    "                 + u\"\\U0001F680-\\U0001F6FF\" \\\n",
    "                 + u\"\\U0001F1E0-\\U0001F1FF\" \\\n",
    "                 + u\"\\U00002702-\\U000027B0\" \\\n",
    "                 + u\"\\U000024C2-\\U0001F251\" \\\n",
    "                 + \"]+\"\n",
    "    text = re.sub(pattern, \"\", text, flags=re.UNICODE)\n",
    "\n",
    "    # Remove IP addresses\n",
    "    pattern = r\"\\b(?:\\d{1,3}\\.){3}\\d{1,3}\\b\"\n",
    "    text = re.sub(pattern, \"\", text)\n",
    "\n",
    "    # Remove special characters\n",
    "    pattern = r\"[^\\w\\s]\"\n",
    "    text = re.sub(pattern, \"\", text)\n",
    "\n",
    "    # Remove HTML tags\n",
    "    pattern = r\"<[^>]+>\"\n",
    "    text = re.sub(pattern, \"\", text)\n",
    "\n",
    "    # Remove CSS syntax and inline styles\n",
    "    pattern = r\"(?i)<style([\\s\\S]*?)<\\/style>|<script([\\s\\S]*?)<\\/script>\"\n",
    "    text = re.sub(pattern, \"\", text)\n",
    "\n",
    "    return text\n",
    "\n",
    "#To speed up the data preprocessing and cleaning as the dataset is somewhat large\n",
    "from multiprocessing import Pool\n",
    "\n",
    "def preprocess_parallel(text):\n",
    "    return preprocess(text)\n",
    "\n",
    "with Pool() as pool:\n",
    "    texts = pool.map(preprocess_parallel, dftrain['comment_text'])\n",
    "\n",
    "print(len(texts),len(dftrain))\n"
   ]
  },
  {
   "cell_type": "code",
   "execution_count": null,
   "metadata": {
    "id": "9WDjTkZuhUta"
   },
   "outputs": [],
   "source": [
    "# Extract input (comment_text) and output (labels) from the DataFrame\n",
    "input_texts = texts\n",
    "output_labels = dftrain.iloc[:, 1:].values  # Assumes label columns are from index 1 to the end\n",
    "\n",
    "# Split the dataset into train and test sets\n",
    "train_texts, test_texts, train_labels, test_labels = train_test_split(\n",
    "    input_texts, output_labels, test_size=0.2, random_state=42)\n",
    "\n",
    "# Tokenize the input texts\n",
    "tokenizer = tf.keras.preprocessing.text.Tokenizer()\n",
    "tokenizer.fit_on_texts(train_texts)\n",
    "train_sequences = tokenizer.texts_to_sequences(train_texts)\n",
    "test_sequences = tokenizer.texts_to_sequences(test_texts)\n",
    "\n",
    "# Pad the sequences to a fixed length\n",
    "max_length = 6  # Adjust the maximum length as per your requirement\n",
    "train_sequences = tf.keras.preprocessing.sequence.pad_sequences(train_sequences, maxlen=max_length)\n",
    "test_sequences = tf.keras.preprocessing.sequence.pad_sequences(test_sequences, maxlen=max_length)\n",
    "\n",
    "# Convert the output labels to categorical format\n",
    "num_classes = output_labels.shape[1]  # Get the number of label columns\n",
    "train_labels_categorical =train_labels\n",
    "test_labels_categorical = test_labels"
   ]
  },
  {
   "cell_type": "code",
   "execution_count": null,
   "metadata": {
    "colab": {
     "base_uri": "https://localhost:8080/"
    },
    "id": "cuQOiS4LkVOU",
    "outputId": "410c4691-f3dd-4bcc-bfe4-072eb021d73c"
   },
   "outputs": [
    {
     "data": {
      "text/plain": [
       "((127656, 6), (127656, 6), (31915, 6))"
      ]
     },
     "execution_count": 36,
     "metadata": {},
     "output_type": "execute_result"
    }
   ],
   "source": [
    "train_labels_categorical.shape,train_sequences.shape,test_sequences.shape"
   ]
  },
  {
   "cell_type": "code",
   "execution_count": null,
   "metadata": {
    "colab": {
     "base_uri": "https://localhost:8080/"
    },
    "id": "t51K-Dc4dTvu",
    "outputId": "38e5d7cc-1637-406c-fb8b-ef91d3410716"
   },
   "outputs": [
    {
     "name": "stdout",
     "output_type": "stream",
     "text": [
      "Model: \"sequential_8\"\n",
      "_________________________________________________________________\n",
      " Layer (type)                Output Shape              Param #   \n",
      "=================================================================\n",
      " embedding_8 (Embedding)     (None, 6, 100)            20469200  \n",
      "                                                                 \n",
      " bidirectional_8 (Bidirectio  (None, 6, 256)           234496    \n",
      " nal)                                                            \n",
      "                                                                 \n",
      " dense_13 (Dense)            (None, 6, 128)            32896     \n",
      "                                                                 \n",
      " lstm_12 (LSTM)              (None, 6, 64)             49408     \n",
      "                                                                 \n",
      " dense_14 (Dense)            (None, 6, 64)             4160      \n",
      "                                                                 \n",
      " global_max_pooling1d_9 (Glo  (None, 64)               0         \n",
      " balMaxPooling1D)                                                \n",
      "                                                                 \n",
      " dense_15 (Dense)            (None, 6)                 390       \n",
      "                                                                 \n",
      "=================================================================\n",
      "Total params: 20,790,550\n",
      "Trainable params: 20,790,550\n",
      "Non-trainable params: 0\n",
      "_________________________________________________________________\n"
     ]
    }
   ],
   "source": [
    "import tensorflow as tf\n",
    "from tensorflow.keras.models import Sequential\n",
    "from tensorflow.keras.layers import Embedding, LSTM, Dense\n",
    "from tensorflow.keras.layers import Bidirectional, GlobalMaxPooling1D\n",
    "\n",
    "# Define the model architecture\n",
    "embedding_dim = 100  # Adjust the dimensionality of the word embeddings as per your requirement\n",
    "\n",
    "model = Sequential()\n",
    "model.add(Embedding(input_dim=len(tokenizer.word_index) + 1, output_dim=embedding_dim, input_length=max_length))\n",
    "model.add(Bidirectional(LSTM(128, return_sequences=True)))\n",
    "model.add(Dense(128, activation='relu'))\n",
    "model.add(LSTM(64, return_sequences=True))\n",
    "model.add(Dense(64, activation='relu'))\n",
    "model.add(GlobalMaxPooling1D())\n",
    "model.add(Dense(num_classes, activation='softmax'))\n",
    "\n",
    "# Compile the model\n",
    "model.compile(loss='binary_crossentropy', optimizer='adam',metrics=['accuracy'])\n",
    "\n",
    "model.summary()"
   ]
  },
  {
   "cell_type": "code",
   "execution_count": null,
   "metadata": {
    "id": "99-FNunknBCH"
   },
   "outputs": [],
   "source": [
    "# Train the model\n",
    "batch_size = 32  # Adjust the batch size as per your requirement\n",
    "epochs = 10  # Adjust the number of epochs as per your requirement"
   ]
  },
  {
   "cell_type": "code",
   "execution_count": null,
   "metadata": {
    "colab": {
     "base_uri": "https://localhost:8080/"
    },
    "id": "xYhWXExpx9NT",
    "outputId": "68aa4165-ed7a-47ed-ad56-e406e16f970e"
   },
   "outputs": [
    {
     "name": "stdout",
     "output_type": "stream",
     "text": [
      "Epoch 1/10\n",
      "3990/3990 [==============================] - 77s 17ms/step - loss: 0.0894 - accuracy: 0.9803 - val_loss: 0.0821 - val_accuracy: 0.9941\n",
      "Epoch 2/10\n",
      "3990/3990 [==============================] - 62s 15ms/step - loss: 0.0688 - accuracy: 0.9898 - val_loss: 0.0828 - val_accuracy: 0.9941\n",
      "Epoch 3/10\n",
      "3990/3990 [==============================] - 62s 15ms/step - loss: 0.0599 - accuracy: 0.9838 - val_loss: 0.0878 - val_accuracy: 0.9941\n",
      "Epoch 4/10\n",
      "3990/3990 [==============================] - 61s 15ms/step - loss: 0.0531 - accuracy: 0.9884 - val_loss: 0.0941 - val_accuracy: 0.9941\n",
      "Epoch 5/10\n",
      "3990/3990 [==============================] - 61s 15ms/step - loss: 0.0472 - accuracy: 0.9910 - val_loss: 0.1001 - val_accuracy: 0.9926\n",
      "Epoch 6/10\n",
      "3990/3990 [==============================] - 61s 15ms/step - loss: 0.0416 - accuracy: 0.9714 - val_loss: 0.1081 - val_accuracy: 0.9818\n",
      "Epoch 7/10\n",
      "3990/3990 [==============================] - 62s 15ms/step - loss: 0.0372 - accuracy: 0.9734 - val_loss: 0.1244 - val_accuracy: 0.9890\n",
      "Epoch 8/10\n",
      "3990/3990 [==============================] - 61s 15ms/step - loss: 0.0327 - accuracy: 0.9688 - val_loss: 0.1349 - val_accuracy: 0.9843\n",
      "Epoch 9/10\n",
      "3990/3990 [==============================] - 60s 15ms/step - loss: 0.0293 - accuracy: 0.9769 - val_loss: 0.1351 - val_accuracy: 0.9702\n",
      "Epoch 10/10\n",
      "3990/3990 [==============================] - 60s 15ms/step - loss: 0.0263 - accuracy: 0.9645 - val_loss: 0.1642 - val_accuracy: 0.9695\n"
     ]
    }
   ],
   "source": [
    "history=model.fit(train_sequences, train_labels_categorical, batch_size=batch_size, epochs=epochs, validation_data=(test_sequences, test_labels_categorical))"
   ]
  },
  {
   "cell_type": "code",
   "execution_count": null,
   "metadata": {
    "colab": {
     "base_uri": "https://localhost:8080/",
     "height": 472
    },
    "id": "MAwoAjBI9ATj",
    "outputId": "c4cee348-9c86-462f-e158-0d5ca2038270"
   },
   "outputs": [
    {
     "data": {
      "image/png": "[encoded data removed]",
      "text/plain": [
       "<Figure size 640x480 with 1 Axes>"
      ]
     },
     "metadata": {},
     "output_type": "display_data"
    }
   ],
   "source": [
    "import matplotlib.pyplot as plt\n",
    "\n",
    "# Train the model and obtain the history object\n",
    "#history = model.fit(train_sequences, train_labels_categorical, batch_size=batch_size, epochs=epochs, validation_data=(test_sequences, test_labels_categorical))\n",
    "\n",
    "# Get the loss values from the history object\n",
    "train_loss = history.history['loss']\n",
    "val_loss = history.history['val_loss']\n",
    "\n",
    "# Plot the loss curves\n",
    "epochs_range = range(1, epochs+1)\n",
    "plt.plot(epochs_range, train_loss, label='Training Loss')\n",
    "plt.plot(epochs_range, val_loss, label='Validation Loss')\n",
    "plt.xlabel('Epochs')\n",
    "plt.ylabel('Loss')\n",
    "plt.title('Loss Curves')\n",
    "plt.legend()\n",
    "plt.show()\n"
   ]
  },
  {
   "cell_type": "code",
   "execution_count": null,
   "metadata": {
    "colab": {
     "base_uri": "https://localhost:8080/",
     "height": 472
    },
    "id": "1vYiOerQKR9b",
    "outputId": "b6d3a9bb-86af-457c-d582-ddc0543480ae"
   },
   "outputs": [
    {
     "data": {
      "image/png": "[encoded data removed]",
      "text/plain": [
       "<Figure size 640x480 with 1 Axes>"
      ]
     },
     "metadata": {},
     "output_type": "display_data"
    }
   ],
   "source": [
    "import matplotlib.pyplot as plt\n",
    "\n",
    "# Get the loss values from the history object\n",
    "train_accuracy = history.history['accuracy']\n",
    "val_accuracy = history.history['val_accuracy']\n",
    "\n",
    "# Plot the loss curves\n",
    "epochs_range = range(1, epochs+1)\n",
    "plt.plot(epochs_range, train_accuracy, label='Training accuracy')\n",
    "plt.plot(epochs_range, val_accuracy, label='Validation accuracy')\n",
    "plt.xlabel('Epochs')\n",
    "plt.ylabel('accuracy')\n",
    "plt.title('accuracy Curves')\n",
    "plt.legend()\n",
    "plt.show()\n"
   ]
  },
  {
   "cell_type": "code",
   "execution_count": null,
   "metadata": {
    "colab": {
     "base_uri": "https://localhost:8080/"
    },
    "id": "o2J4e-VcPywS",
    "outputId": "8a163df2-5606-46c3-b3a0-1f16a22cdb2c"
   },
   "outputs": [
    {
     "name": "stdout",
     "output_type": "stream",
     "text": [
      "998/998 [==============================] - 6s 6ms/step - loss: 0.1642 - accuracy: 0.9695\n"
     ]
    },
    {
     "data": {
      "text/plain": [
       "[0.16415560245513916, 0.9694501161575317]"
      ]
     },
     "execution_count": 84,
     "metadata": {},
     "output_type": "execute_result"
    }
   ],
   "source": [
    "model.evaluate(test_sequences,test_labels_categorical)"
   ]
  },
  {
   "cell_type": "code",
   "execution_count": null,
   "metadata": {
    "id": "JGLrkqmCQ3aX"
   },
   "outputs": [],
   "source": [
    "import time\n",
    "name=\"final_model.h5\"#'model_'+str(time.ctime()).replace(\" \",\"_\")+'.h5'\n",
    "model.save(name)"
   ]
  },
  {
   "cell_type": "markdown",
   "metadata": {
    "id": "9M38oto9XlqX"
   },
   "source": [
    "**Testing Model**"
   ]
  },
  {
   "cell_type": "code",
   "execution_count": null,
   "metadata": {
    "colab": {
     "base_uri": "https://localhost:8080/"
    },
    "id": "9RJQgGyHXkLC",
    "outputId": "2698c0fb-152a-4805-f399-a6bb99a6ab06"
   },
   "outputs": [
    {
     "data": {
      "text/plain": [
       "comment_text     0\n",
       "toxic            0\n",
       "severe_toxic     0\n",
       "obscene          0\n",
       "threat           0\n",
       "insult           0\n",
       "identity_hate    0\n",
       "dtype: int64"
      ]
     },
     "execution_count": 102,
     "metadata": {},
     "output_type": "execute_result"
    }
   ],
   "source": [
    "df_test=pd.read_csv(\"/content/test/test.csv\")\n",
    "df_test_label=pd.read_csv(\"/content/testLabel/test_labels.csv\")\n",
    "# Perform the join based on the ID column\n",
    "merged_df = pd.merge(df_test, df_test_label, on='id')\n",
    "\n",
    "# Save the merged dataframe to a new CSV file\n",
    "merged_df.to_csv('merged_file.csv', index=False)\n",
    "\n",
    "merged_df.drop(['id'],axis=1,inplace=True)\n",
    "\n",
    "merged_df.isna().sum()"
   ]
  },
  {
   "cell_type": "code",
   "execution_count": null,
   "metadata": {
    "id": "YcldfntmYkOg"
   },
   "outputs": [],
   "source": [
    "#data preprocessing\n",
    "with Pool() as pool:\n",
    "    texts = pool.map(preprocess_parallel, merged_df['comment_text'])\n",
    "input_texts = texts\n",
    "output_labels = merged_df.iloc[:, 1:].values  # Assumes label columns are from index 1 to the end\n",
    "\n",
    "'''# Split the dataset into train and test sets\n",
    "train_texts, test_texts, train_labels, test_labels = train_test_split(\n",
    "    input_texts, output_labels, test_size=0.2, random_state=42)'''\n",
    "\n",
    "# Tokenize the input texts\n",
    "tokenizer = tf.keras.preprocessing.text.Tokenizer()\n",
    "tokenizer.fit_on_texts(input_texts)\n",
    "train_sequences = tokenizer.texts_to_sequences(input_texts)\n",
    "#test_sequences = tokenizer.texts_to_sequences(output_labels)\n",
    "\n",
    "# Pad the sequences to a fixed length\n",
    "max_length = 6  # Adjust the maximum length as per your requirement\n",
    "train_sequences = tf.keras.preprocessing.sequence.pad_sequences(train_sequences, maxlen=max_length)\n",
    "#test_sequences = tf.keras.preprocessing.sequence.pad_sequences(test_sequences, maxlen=max_length)\n",
    "\n",
    "# Convert the output labels to categorical format\n",
    "num_classes = output_labels.shape[1]  # Get the number of label columns\n",
    "train_labels_categorical =output_labels\n",
    "#test_labels_categorical = test_labels\n"
   ]
  },
  {
   "cell_type": "code",
   "execution_count": null,
   "metadata": {
    "colab": {
     "base_uri": "https://localhost:8080/"
    },
    "id": "tnOATZ9EaPjQ",
    "outputId": "2b6c5c90-f5ba-4f0b-a815-c958fc76701d"
   },
   "outputs": [
    {
     "name": "stdout",
     "output_type": "stream",
     "text": [
      "4787/4787 [==============================] - 25s 5ms/step - loss: -5.6686 - accuracy: 0.9683\n"
     ]
    }
   ],
   "source": [
    "evaluate=model.evaluate(train_sequences,train_labels_categorical)"
   ]
  },
  {
   "cell_type": "code",
   "execution_count": null,
   "metadata": {
    "colab": {
     "base_uri": "https://localhost:8080/"
    },
    "id": "XLkyi5mgcfe_",
    "outputId": "e847eef3-ea03-4dae-e66e-82c71d1ceaa7"
   },
   "outputs": [
    {
     "name": "stdout",
     "output_type": "stream",
     "text": [
      "Accuracy : 96.83\n"
     ]
    }
   ],
   "source": [
    "Accuracy = evaluate[1]*100\n",
    "print(f\"Accuracy : {Accuracy:.2f}\")"
   ]
  }
 ],
 "metadata": {
  "accelerator": "GPU",
  "colab": {
   "gpuType": "T4",
   "provenance": []
  },
  "kernelspec": {
   "display_name": "Python 3 (ipykernel)",
   "language": "python",
   "name": "python3"
  },
  "language_info": {
   "codemirror_mode": {
    "name": "ipython",
    "version": 3
   },
   "file_extension": ".py",
   "mimetype": "text/x-python",
   "name": "python",
   "nbconvert_exporter": "python",
   "pygments_lexer": "ipython3",
   "version": "3.10.6"
  }
 },
 "nbformat": 4,
 "nbformat_minor": 1
}
